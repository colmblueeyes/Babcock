{
 "cells": [
  {
   "cell_type": "markdown",
   "metadata": {},
   "source": [
    "# Babcock Machine Learning Test Exercise"
   ]
  },
  {
   "cell_type": "markdown",
   "metadata": {},
   "source": [
    "### Approach & Methodology\n",
    "\n",
    "- Understand the brief & aims\n",
    "- Prepare, upload, view and sample the data (with some basic summaries)\n",
    "- Data Cleansing\n",
    "- Quick Exploratory analysis\n",
    "- Feature Engineering & Sampling\n",
    "- Model Build & consideration of approaches\n",
    "- Validate model(s) & Performance Measurement\n",
    "- Final solution & model interpretation\n",
    "- Summarise findings\n",
    "\n",
    "#### Brief & Aims\n",
    "\n",
    "The task asks for a model to accurately classify articles into genre.  A standard data science scientific approach will be used, steps detailed above. \n",
    "A key aim will be to reach a workable solution and identify areas for later improvment. As time permits, improvments with the greatest estimated positive impact in the shortest time will be iteratively tackled. \n",
    "\n",
    "Potential uses is not detailed in the brief, but some consideration of real-world appication is essential for qualitative and quantitiative demands on the approach and accuracy.  For example, classification of articles for a hypothetical news aggregator site would demand a high level of classification accuracy, and a close analysis of misclassifications. However, observing or surveying trends over time of news article categorical bias, a lower accuracy might be permissible. \n",
    "\n",
    "\n",
    "Because this is an academic (test) exercise rather than a real-world application, aims will be to: \n",
    "- Show the scientific method & approach to solving this problem\n",
    "- Illustrate some technical methods, ML model builds, and a few relevant cool things in python\n",
    "- Build a working model and iterate to make some improvements\n",
    "- Consider relative merits of some different approaches with respect to different potential real-world applictions"
   ]
  },
  {
   "cell_type": "markdown",
   "metadata": {},
   "source": [
    "### Prepare, Upload, View, Sample\n",
    "Files supplied in csv format with headers (test.csv, train.csv)    Fields: Class Index, Title, Description"
   ]
  },
  {
   "cell_type": "code",
   "execution_count": 93,
   "metadata": {},
   "outputs": [],
   "source": [
    "# libraries needed\n",
    "import numpy as np\n",
    "import pandas as pd\n",
    "# natural language toolkit\n",
    "import nltk as nltk\n",
    "from nltk.corpus import stopwords\n",
    "from nltk.stem import WordNetLemmatizer\n",
    "from sklearn.feature_extraction.text import TfidfVectorizer\n",
    "from sklearn.model_selection import train_test_split\n",
    "from sklearn.feature_selection import chi2\n",
    "from sklearn import svm\n",
    "from pprint import pprint\n",
    "from sklearn.model_selection import RandomizedSearchCV\n",
    "from sklearn.model_selection import GridSearchCV\n",
    "from sklearn.metrics import classification_report, confusion_matrix, accuracy_score\n",
    "from sklearn.model_selection import ShuffleSplit\n",
    "# visuals\n",
    "import matplotlib.pyplot as plt\n",
    "import seaborn as sns\n",
    "sns.set_style(\"whitegrid\")\n",
    "import pickle"
   ]
  },
  {
   "cell_type": "code",
   "execution_count": 94,
   "metadata": {},
   "outputs": [],
   "source": [
    "#To replicate methods, may need to pip install some packages\n",
    "#pip install wordcloud"
   ]
  },
  {
   "cell_type": "code",
   "execution_count": 95,
   "metadata": {},
   "outputs": [],
   "source": [
    "#pip install altair"
   ]
  },
  {
   "cell_type": "code",
   "execution_count": 96,
   "metadata": {},
   "outputs": [],
   "source": [
    "#pip install ipython-sql"
   ]
  },
  {
   "cell_type": "code",
   "execution_count": 97,
   "metadata": {},
   "outputs": [
    {
     "data": {
      "text/plain": [
       "<bound method DataFrame.info of        Class Index                                            Title  \\\n",
       "42616            3        Delta to Cut Execs, Workers Pay by 10 Pct   \n",
       "10964            2       Bertuzzi Pleads Not Guilty to Assault (AP)   \n",
       "39478            1          Four terror suspects arrested in London   \n",
       "85946            4              Irish urged to reduce gas emissions   \n",
       "65870            3           Bank sages stumped by economic riddles   \n",
       "...            ...                                              ...   \n",
       "13446            1           Chechnya to hold presidential election   \n",
       "65437            4        Windows XP Service Pack 2: Is It Time Yet   \n",
       "66207            4  Cingular Operating Profits Dip, Revenue Up (AP)   \n",
       "60982            1                 Gbagbo calls on rebels to disarm   \n",
       "55883            2                          Bunch of TDs from Brady   \n",
       "\n",
       "                                             Description  \n",
       "42616   CHICAGO (Reuters) - Delta Air Lines &lt;A HRE...  \n",
       "10964  AP - Todd Bertuzzi of the Vancouver Canucks pl...  \n",
       "39478  British police said Saturday they have arreste...  \n",
       "85946  Ireland #39;s leading expert on climate change...  \n",
       "65870  The Bank of England #39;s most prominent sages...  \n",
       "...                                                  ...  \n",
       "13446  Russia #39;s restive republic of Chechnya will...  \n",
       "65437  A Desktop Pipeline reviewer invites readers to...  \n",
       "66207  AP - Operating profits slipped 5.5 percent at ...  \n",
       "60982  Ivory Coast's president urges former rebels to...  \n",
       "55883  Northeastern quarterback Shawn Brady engaged i...  \n",
       "\n",
       "[10000 rows x 3 columns]>"
      ]
     },
     "execution_count": 97,
     "metadata": {},
     "output_type": "execute_result"
    }
   ],
   "source": [
    "# Read in and view top & bottom of training and test (validation) files\n",
    "dftrain = pd.read_csv(\"/Users/colm/Desktop/train.csv\")\n",
    "# Sample for quick initial development\n",
    "dftrain = dftrain.sample(10000)\n",
    "# info will show top & tail records and table structure\n",
    "dftrain.info"
   ]
  },
  {
   "cell_type": "code",
   "execution_count": 98,
   "metadata": {},
   "outputs": [
    {
     "data": {
      "text/plain": [
       "<bound method DataFrame.info of       Class Index                                              Title  \\\n",
       "0               3                  Fears for T N pension after talks   \n",
       "1               4  The Race is On: Second Private Team Sets Launc...   \n",
       "2               4      Ky. Company Wins Grant to Study Peptides (AP)   \n",
       "3               4      Prediction Unit Helps Forecast Wildfires (AP)   \n",
       "4               4        Calif. Aims to Limit Farm-Related Smog (AP)   \n",
       "...           ...                                                ...   \n",
       "7595            1                                   Around the world   \n",
       "7596            2                        Void is filled with Clement   \n",
       "7597            2                             Martinez leaves bitter   \n",
       "7598            3  5 of arthritis patients in Singapore take Bext...   \n",
       "7599            3                             EBay gets into rentals   \n",
       "\n",
       "                                            Description  \n",
       "0     Unions representing workers at Turner   Newall...  \n",
       "1     SPACE.com - TORONTO, Canada -- A second\\team o...  \n",
       "2     AP - A company founded by a chemistry research...  \n",
       "3     AP - It's barely dawn when Mike Fitzpatrick st...  \n",
       "4     AP - Southern California's smog-fighting agenc...  \n",
       "...                                                 ...  \n",
       "7595  Ukrainian presidential candidate Viktor Yushch...  \n",
       "7596  With the supply of attractive pitching options...  \n",
       "7597  Like Roger Clemens did almost exactly eight ye...  \n",
       "7598  SINGAPORE : Doctors in the United States have ...  \n",
       "7599  EBay plans to buy the apartment and home renta...  \n",
       "\n",
       "[7600 rows x 3 columns]>"
      ]
     },
     "execution_count": 98,
     "metadata": {},
     "output_type": "execute_result"
    }
   ],
   "source": [
    "dfvalidate = pd.read_csv(\"/Users/colm/Desktop/test.csv\")\n",
    "dfvalidate.info"
   ]
  },
  {
   "cell_type": "markdown",
   "metadata": {},
   "source": [
    "Quick Observations\n",
    "120,000 to train with, 7,600 to validate. \n",
    "Probably will not need to use test records in final model, but could do for best practice. \n",
    "Broadly the classes are intuitively as described in the brief:\n",
    "\n",
    "(1) World\n",
    "(2) Sport\n",
    "(3) Business\n",
    "(4) Science_Tech\n",
    "\n",
    "What we want is high correct classification rate on test (validation) set.  \n",
    "We might want to look at misclassifications (false positives & false negatives) to understand any systematic classification failures and whether the model would be fit for real world purpose."
   ]
  },
  {
   "cell_type": "code",
   "execution_count": 99,
   "metadata": {},
   "outputs": [
    {
     "data": {
      "text/plain": [
       "(10000, 3)"
      ]
     },
     "execution_count": 99,
     "metadata": {},
     "output_type": "execute_result"
    }
   ],
   "source": [
    "# rows & columns\n",
    "dftrain.shape"
   ]
  },
  {
   "cell_type": "code",
   "execution_count": 100,
   "metadata": {},
   "outputs": [
    {
     "data": {
      "text/plain": [
       "(7600, 3)"
      ]
     },
     "execution_count": 100,
     "metadata": {},
     "output_type": "execute_result"
    }
   ],
   "source": [
    "dfvalidate.shape"
   ]
  },
  {
   "cell_type": "markdown",
   "metadata": {},
   "source": [
    "## Some Basic Data Cleansing\n",
    "- The data is already very well prepared, no nulls to worry about. Index is already numeric (label coded)  \n",
    "With more time, could do:\n",
    "- Special character cleaning. Upcase / downcase. Punctuation. Signs. Remove HTML or other code\n",
    "\n",
    "I will add a length column on for the descriptions to see how that is distributed\n",
    "    "
   ]
  },
  {
   "cell_type": "markdown",
   "metadata": {},
   "source": [
    "Sensible column names without spaces (changed first column to remove space)  "
   ]
  },
  {
   "cell_type": "code",
   "execution_count": 101,
   "metadata": {},
   "outputs": [
    {
     "name": "stdout",
     "output_type": "stream",
     "text": [
      "      class_index                                              title  \\\n",
      "0               3                  Fears for T N pension after talks   \n",
      "1               4  The Race is On: Second Private Team Sets Launc...   \n",
      "2               4      Ky. Company Wins Grant to Study Peptides (AP)   \n",
      "3               4      Prediction Unit Helps Forecast Wildfires (AP)   \n",
      "4               4        Calif. Aims to Limit Farm-Related Smog (AP)   \n",
      "...           ...                                                ...   \n",
      "7595            1                                   Around the world   \n",
      "7596            2                        Void is filled with Clement   \n",
      "7597            2                             Martinez leaves bitter   \n",
      "7598            3  5 of arthritis patients in Singapore take Bext...   \n",
      "7599            3                             EBay gets into rentals   \n",
      "\n",
      "                                            description  \n",
      "0     Unions representing workers at Turner   Newall...  \n",
      "1     SPACE.com - TORONTO, Canada -- A second\\team o...  \n",
      "2     AP - A company founded by a chemistry research...  \n",
      "3     AP - It's barely dawn when Mike Fitzpatrick st...  \n",
      "4     AP - Southern California's smog-fighting agenc...  \n",
      "...                                                 ...  \n",
      "7595  Ukrainian presidential candidate Viktor Yushch...  \n",
      "7596  With the supply of attractive pitching options...  \n",
      "7597  Like Roger Clemens did almost exactly eight ye...  \n",
      "7598  SINGAPORE : Doctors in the United States have ...  \n",
      "7599  EBay plans to buy the apartment and home renta...  \n",
      "\n",
      "[7600 rows x 3 columns]\n"
     ]
    }
   ],
   "source": [
    "for df in [dftrain, dfvalidate]:\n",
    "    df.columns = ['class_index', 'title', 'description']\n",
    "    df.dropna()\n",
    "# looking for null values, pretty much clear\n",
    "#dftrain.apply(pd.Series.value_counts)\n",
    "#print(dftrain)\n",
    "print(dfvalidate)"
   ]
  },
  {
   "cell_type": "code",
   "execution_count": 136,
   "metadata": {},
   "outputs": [],
   "source": [
    "#decode genre for readability and outputs\n",
    "genre = {\n",
    "    1 : 'World',\n",
    "    2 : 'Sport',\n",
    "    3 : 'Business',\n",
    "    4 : 'Science_Tech'\n",
    "}\n",
    "for df in [dftrain, dfvalidate]:\n",
    "    #ganre decode\n",
    "    dftrain['genre'] = dftrain['class_index']\n",
    "    dftrain = dftrain.replace({'genre':genre})\n",
    "# print(dftrain)"
   ]
  },
  {
   "cell_type": "code",
   "execution_count": 103,
   "metadata": {},
   "outputs": [
    {
     "data": {
      "text/plain": [
       "2    2579\n",
       "4    2574\n",
       "1    2498\n",
       "3    2349\n",
       "Name: class_index, dtype: int64"
      ]
     },
     "execution_count": 103,
     "metadata": {},
     "output_type": "execute_result"
    }
   ],
   "source": [
    "x = dftrain.class_index\n",
    "x.value_counts()"
   ]
  },
  {
   "cell_type": "code",
   "execution_count": 104,
   "metadata": {},
   "outputs": [
    {
     "data": {
      "text/plain": [
       "3    1900\n",
       "2    1900\n",
       "1    1900\n",
       "4    1900\n",
       "Name: class_index, dtype: int64"
      ]
     },
     "execution_count": 104,
     "metadata": {},
     "output_type": "execute_result"
    }
   ],
   "source": [
    "x = dfvalidate.class_index\n",
    "x.value_counts()"
   ]
  },
  {
   "cell_type": "markdown",
   "metadata": {},
   "source": [
    "## Exploratory Data Analysis\n",
    "- Record frequencies within categories\n",
    "- Consider balance for under/over sampling\n",
    "- Description lengths\n",
    "- Word clouds to get a sense of content  \n",
    "Feature engineering will be considered separately"
   ]
  },
  {
   "cell_type": "code",
   "execution_count": 105,
   "metadata": {},
   "outputs": [
    {
     "data": {
      "text/plain": [
       "Text(0.5, 1.0, 'Category frequencies in training set')"
      ]
     },
     "execution_count": 105,
     "metadata": {},
     "output_type": "execute_result"
    },
    {
     "data": {
      "image/png": "[encoded data removed]",
      "text/plain": [
       "<Figure size 432x288 with 1 Axes>"
      ]
     },
     "metadata": {},
     "output_type": "display_data"
    }
   ],
   "source": [
    "dftrain['class_index'].value_counts().plot(kind='bar')\n",
    "plt.xlabel(\"Class Index\")\n",
    "plt.ylabel(\"Freq\")\n",
    "plt.title(\"Category frequencies in training set\")"
   ]
  },
  {
   "cell_type": "markdown",
   "metadata": {},
   "source": [
    "There is an evenly split distribution of class index, it is perfectly balanced so no under/oversampling needed  \n",
    "Double checked in Excel pivot as too exact, obviously constructed that way already"
   ]
  },
  {
   "cell_type": "code",
   "execution_count": 106,
   "metadata": {},
   "outputs": [
    {
     "data": {
      "text/plain": [
       "Text(0.5, 1.0, 'Category frequencies in test (validation) set')"
      ]
     },
     "execution_count": 106,
     "metadata": {},
     "output_type": "execute_result"
    },
    {
     "data": {
      "image/png": "[encoded data removed]",
      "text/plain": [
       "<Figure size 432x288 with 1 Axes>"
      ]
     },
     "metadata": {},
     "output_type": "display_data"
    }
   ],
   "source": [
    "dfvalidate['class_index'].value_counts().plot(kind='bar')\n",
    "plt.xlabel(\"Class Index\")\n",
    "plt.ylabel(\"Freq\")\n",
    "plt.title(\"Category frequencies in test (validation) set\")"
   ]
  },
  {
   "cell_type": "code",
   "execution_count": 107,
   "metadata": {},
   "outputs": [],
   "source": [
    "from wordcloud import WordCloud, STOPWORDS, ImageColorGenerator"
   ]
  },
  {
   "cell_type": "markdown",
   "metadata": {},
   "source": [
    "Some world clouds just to get a sense of the article classes and whether the brief's descriptions are appropriate"
   ]
  },
  {
   "cell_type": "code",
   "execution_count": 108,
   "metadata": {},
   "outputs": [
    {
     "name": "stdout",
     "output_type": "stream",
     "text": [
      "There are 111972 words in the chosen title field\n"
     ]
    },
    {
     "data": {
      "image/png": "[encoded data removed]",
      "text/plain": [
       "<Figure size 432x288 with 1 Axes>"
      ]
     },
     "metadata": {},
     "output_type": "display_data"
    }
   ],
   "source": [
    "# put all words together for a given class\n",
    "text = \" \".join(t for t in dftrain[dftrain.class_index == 4].title.tolist())\n",
    "print (\"There are {} words in the chosen title field\".format(len(text)))\n",
    "\n",
    "# Create and generate a word cloud image:\n",
    "wordcloud = WordCloud().generate(text)\n",
    "\n",
    "# Display the generated image:\n",
    "plt.imshow(wordcloud, interpolation='bilinear')\n",
    "plt.axis(\"off\")\n",
    "plt.show()"
   ]
  },
  {
   "cell_type": "code",
   "execution_count": 109,
   "metadata": {},
   "outputs": [
    {
     "name": "stdout",
     "output_type": "stream",
     "text": [
      "       class_index                                            title  \\\n",
      "42616            3        Delta to Cut Execs, Workers Pay by 10 Pct   \n",
      "10964            2       Bertuzzi Pleads Not Guilty to Assault (AP)   \n",
      "39478            1          Four terror suspects arrested in London   \n",
      "85946            4              Irish urged to reduce gas emissions   \n",
      "65870            3           Bank sages stumped by economic riddles   \n",
      "...            ...                                              ...   \n",
      "13446            1           Chechnya to hold presidential election   \n",
      "65437            4        Windows XP Service Pack 2: Is It Time Yet   \n",
      "66207            4  Cingular Operating Profits Dip, Revenue Up (AP)   \n",
      "60982            1                 Gbagbo calls on rebels to disarm   \n",
      "55883            2                          Bunch of TDs from Brady   \n",
      "\n",
      "                                             description         genre  \\\n",
      "42616   CHICAGO (Reuters) - Delta Air Lines &lt;A HRE...      Business   \n",
      "10964  AP - Todd Bertuzzi of the Vancouver Canucks pl...         Sport   \n",
      "39478  British police said Saturday they have arreste...         World   \n",
      "85946  Ireland #39;s leading expert on climate change...  Science_Tech   \n",
      "65870  The Bank of England #39;s most prominent sages...      Business   \n",
      "...                                                  ...           ...   \n",
      "13446  Russia #39;s restive republic of Chechnya will...         World   \n",
      "65437  A Desktop Pipeline reviewer invites readers to...  Science_Tech   \n",
      "66207  AP - Operating profits slipped 5.5 percent at ...  Science_Tech   \n",
      "60982  Ivory Coast's president urges former rebels to...         World   \n",
      "55883  Northeastern quarterback Shawn Brady engaged i...         Sport   \n",
      "\n",
      "       description_length  \n",
      "42616                 329  \n",
      "10964                 202  \n",
      "39478                 174  \n",
      "85946                 176  \n",
      "65870                 213  \n",
      "...                   ...  \n",
      "13446                 155  \n",
      "65437                 139  \n",
      "66207                 249  \n",
      "60982                  99  \n",
      "55883                 234  \n",
      "\n",
      "[10000 rows x 5 columns]\n"
     ]
    }
   ],
   "source": [
    "#add a description length field\n",
    "dftrain['description_length'] = dftrain['description'].str.len()\n",
    "print(dftrain)"
   ]
  },
  {
   "cell_type": "code",
   "execution_count": 110,
   "metadata": {},
   "outputs": [
    {
     "name": "stdout",
     "output_type": "stream",
     "text": [
      "       class_index                                            title  \\\n",
      "42616            3        Delta to Cut Execs, Workers Pay by 10 Pct   \n",
      "10964            2       Bertuzzi Pleads Not Guilty to Assault (AP)   \n",
      "39478            1          Four terror suspects arrested in London   \n",
      "85946            4              Irish urged to reduce gas emissions   \n",
      "65870            3           Bank sages stumped by economic riddles   \n",
      "...            ...                                              ...   \n",
      "13446            1           Chechnya to hold presidential election   \n",
      "65437            4        Windows XP Service Pack 2: Is It Time Yet   \n",
      "66207            4  Cingular Operating Profits Dip, Revenue Up (AP)   \n",
      "60982            1                 Gbagbo calls on rebels to disarm   \n",
      "55883            2                          Bunch of TDs from Brady   \n",
      "\n",
      "                                             description         genre  \\\n",
      "42616   CHICAGO (Reuters) - Delta Air Lines &lt;A HRE...      Business   \n",
      "10964  AP - Todd Bertuzzi of the Vancouver Canucks pl...         Sport   \n",
      "39478  British police said Saturday they have arreste...         World   \n",
      "85946  Ireland #39;s leading expert on climate change...  Science_Tech   \n",
      "65870  The Bank of England #39;s most prominent sages...      Business   \n",
      "...                                                  ...           ...   \n",
      "13446  Russia #39;s restive republic of Chechnya will...         World   \n",
      "65437  A Desktop Pipeline reviewer invites readers to...  Science_Tech   \n",
      "66207  AP - Operating profits slipped 5.5 percent at ...  Science_Tech   \n",
      "60982  Ivory Coast's president urges former rebels to...         World   \n",
      "55883  Northeastern quarterback Shawn Brady engaged i...         Sport   \n",
      "\n",
      "       description_length  \n",
      "42616                 329  \n",
      "10964                 202  \n",
      "39478                 174  \n",
      "85946                 176  \n",
      "65870                 213  \n",
      "...                   ...  \n",
      "13446                 155  \n",
      "65437                 139  \n",
      "66207                 249  \n",
      "60982                  99  \n",
      "55883                 234  \n",
      "\n",
      "[10000 rows x 5 columns]\n"
     ]
    }
   ],
   "source": [
    "print(dftrain)"
   ]
  },
  {
   "cell_type": "code",
   "execution_count": 111,
   "metadata": {},
   "outputs": [
    {
     "data": {
      "text/plain": [
       "Text(0.5, 1.0, 'Description length (characters)')"
      ]
     },
     "execution_count": 111,
     "metadata": {},
     "output_type": "execute_result"
    },
    {
     "data": {
      "image/png": "[encoded data removed]",
      "text/plain": [
       "<Figure size 921.6x432 with 1 Axes>"
      ]
     },
     "metadata": {},
     "output_type": "display_data"
    }
   ],
   "source": [
    "#plot the distribution of description length\n",
    "plt.figure(figsize=(12.8,6))\n",
    "sns.distplot(dftrain['description_length']).set_title('Description length (characters)')"
   ]
  },
  {
   "cell_type": "markdown",
   "metadata": {},
   "source": [
    "OK, so around 200 characters, with very few anomolies (low or high)"
   ]
  },
  {
   "cell_type": "markdown",
   "metadata": {},
   "source": [
    "## Feature Extraction / Feature Engineering\n",
    "This can be quite time intensive, so for the purpose of this exercise I will keep it minimal but offer suggestions for extension. \n",
    "- TF-IDF vectors (relative importance of terms)\n",
    "- Word Count Vectors (or other Bag of Words methods)\n",
    "- Stemming or lematization (reduction to root & meaning)\n",
    "- Stop words (like 'the' or 'what') that are unlikely to have predictive power\n",
    "- Other manual creation of features (I've added only character length)\n",
    "\n",
    "I'll use TF-IDF Vectors as features to be used in the model(s)"
   ]
  },
  {
   "cell_type": "code",
   "execution_count": 112,
   "metadata": {},
   "outputs": [],
   "source": [
    "#data are already organised into train and test, but need to split out target var\n",
    "#X_train, X_test, Y_train, Y_test = train_test_split(dftrain['description'],\n",
    "#                                                    dftrain['class_index'], \n",
    "#                                                    test_size=0.15,\n",
    "#                                                    random_state=8)\n",
    "X_train = dftrain['description']\n",
    "y_train = dftrain['class_index']\n",
    "X_test = dfvalidate['description']\n",
    "y_test = dfvalidate['class_index']"
   ]
  },
  {
   "cell_type": "code",
   "execution_count": 113,
   "metadata": {
    "scrolled": true
   },
   "outputs": [
    {
     "name": "stdout",
     "output_type": "stream",
     "text": [
      "(10000, 300)\n",
      "(7600, 300)\n"
     ]
    }
   ],
   "source": [
    "# Parameters\n",
    "# consider unigrams and bigrams\n",
    "ngram_range = (1, 2)\n",
    "# document frequency min and max\n",
    "min_df = 10\n",
    "max_df = 1.\n",
    "max_features = 300\n",
    "\n",
    "tfidf = TfidfVectorizer(encoding='utf-8', \n",
    "                        ngram_range=ngram_range,\n",
    "                        stop_words=None,\n",
    "                        lowercase=False,\n",
    "                        max_df=max_df,\n",
    "                        min_df=min_df,\n",
    "                        max_features=max_features,\n",
    "                        norm='l2',\n",
    "                        sublinear_tf=True)\n",
    "\n",
    "# fit and transform the training set\n",
    "features_train = tfidf.fit_transform(X_train).toarray()\n",
    "labels_train = y_train\n",
    "print(features_train.shape)\n",
    "\n",
    "# transform but do not fit the test set\n",
    "features_test = tfidf.fit_transform(X_test).toarray()\n",
    "labels_test = y_test\n",
    "print(features_test.shape)\n",
    "                        "
   ]
  },
  {
   "cell_type": "code",
   "execution_count": 114,
   "metadata": {},
   "outputs": [
    {
     "name": "stdout",
     "output_type": "stream",
     "text": [
      "TfidfVectorizer(analyzer='word', binary=False, decode_error='strict',\n",
      "                dtype=<class 'numpy.float64'>, encoding='utf-8',\n",
      "                input='content', lowercase=False, max_df=1.0, max_features=300,\n",
      "                min_df=10, ngram_range=(1, 2), norm='l2', preprocessor=None,\n",
      "                smooth_idf=True, stop_words=None, strip_accents=None,\n",
      "                sublinear_tf=True, token_pattern='(?u)\\\\b\\\\w\\\\w+\\\\b',\n",
      "                tokenizer=None, use_idf=True, vocabulary=None)\n"
     ]
    }
   ],
   "source": [
    "print(tfidf)"
   ]
  },
  {
   "cell_type": "markdown",
   "metadata": {},
   "source": [
    "With more time, could take a look at which unigrams and bigrams are most correlated with each category for interest, and also to show if it would be worth spending time creating more features or other data normalisation."
   ]
  },
  {
   "cell_type": "markdown",
   "metadata": {},
   "source": [
    "## Model Build\n",
    "\n",
    "Supervised machine learning techniques are most appropriate here because we absolutely know the outcome we want to predict (the class index or category).  Deep learning algorithms may be considered later, but experience suggests concentrating on these for now will probably be the best option (we want simplicity and to avoid overfitting). \n",
    "\n",
    "\n",
    "### Types of (supervised) model for champion challenger comparison for this text classification model could include:\n",
    "- Random Forest (preferred statistical method based on community success and simplicity)\n",
    "- SVM (Support Vector Machine)\n",
    "- K Nearest Neighbours\n",
    "- Gradient Boosting, XG Boost\n",
    "- Multinomial Logistic or standard discriminant analysis (more appropriate if we have more features already defined in the data)\n",
    "- Naive Bayes\n",
    "- Neural Nets or layered deep learning algorithms\n",
    "\n",
    "I'll limit to SVM for now for the purpose of the exercise.  Some quick research from the python community shows that this method often comes out top in comparative performance tests. We will, however, determine if the performance we manage to get is fit for purpose.\n",
    "\n",
    "The general method would be:\n",
    "- Ensure datasets prepared with all features required for modelling\n",
    "- Decide on hyperparameters tune (parameters vary according to the individual model types)\n",
    "- Define performance metrics (% accuracy will be the main one, could use concordance or other measures)\n",
    "- Random Search and Grid Search Cross Vaidate process to find the best parameters for a given model type\n",
    "- I would always consider whether further feature engineering might be needed or beneficial"
   ]
  },
  {
   "cell_type": "code",
   "execution_count": 115,
   "metadata": {},
   "outputs": [],
   "source": [
    "# In summary we have the following objects for modelling\n",
    "# X_train ()\n",
    "# y_train (target variable, class_index)\n",
    "# features_train (features matrix)\n",
    "# labels_train (target)\n",
    "# +those 4 for testing\n",
    "# +tfidf (The TF-IDF Vector model)"
   ]
  },
  {
   "cell_type": "code",
   "execution_count": 116,
   "metadata": {},
   "outputs": [
    {
     "name": "stdout",
     "output_type": "stream",
     "text": [
      "(10000, 300)\n",
      "(7600, 300)\n"
     ]
    }
   ],
   "source": [
    "#check dimension of feature vectors\n",
    "print(features_train.shape)\n",
    "print(features_test.shape)"
   ]
  },
  {
   "cell_type": "code",
   "execution_count": 117,
   "metadata": {},
   "outputs": [
    {
     "name": "stdout",
     "output_type": "stream",
     "text": [
      "Parameters currently in use:\n",
      "\n",
      "{'C': 1.0,\n",
      " 'cache_size': 200,\n",
      " 'class_weight': None,\n",
      " 'coef0': 0.0,\n",
      " 'decision_function_shape': 'ovr',\n",
      " 'degree': 3,\n",
      " 'gamma': 'auto_deprecated',\n",
      " 'kernel': 'rbf',\n",
      " 'max_iter': -1,\n",
      " 'probability': False,\n",
      " 'random_state': 8,\n",
      " 'shrinking': True,\n",
      " 'tol': 0.001,\n",
      " 'verbose': False}\n"
     ]
    }
   ],
   "source": [
    "svc_0=svm.SVC(random_state=8)\n",
    "print('Parameters currently in use:\\n')\n",
    "pprint(svc_0.get_params())"
   ]
  },
  {
   "cell_type": "markdown",
   "metadata": {},
   "source": [
    "I'll tune: C, kernel, gamma, degree. But try one first  \n",
    "Use Randomized Search Cross Validaion to find our best model fit, then grid search based on the results to refine"
   ]
  },
  {
   "cell_type": "code",
   "execution_count": 118,
   "metadata": {},
   "outputs": [
    {
     "name": "stdout",
     "output_type": "stream",
     "text": [
      "{'C': [0.01],\n",
      " 'degree': [4],\n",
      " 'gamma': [10],\n",
      " 'kernel': ['poly'],\n",
      " 'probability': [True]}\n"
     ]
    }
   ],
   "source": [
    "# C (penalty of the error term)\n",
    "C = [.01]\n",
    "#C = [.0001, .001, .01]\n",
    "\n",
    "# gamma\n",
    "gamma = [10]\n",
    "#gamma = [.0001, .001, .01, .1, 1, 10, 100]\n",
    "\n",
    "# degree\n",
    "degree = [4]\n",
    "#degree = [1, 2, 3, 4, 5]\n",
    "\n",
    "# kernel (poly is likely to be best)\n",
    "kernel = ['poly']\n",
    "#kernel = ['linear', 'rbf', 'poly']\n",
    "\n",
    "# probability\n",
    "probability = [True]\n",
    "\n",
    "# Create the random grid\n",
    "random_grid = {'C': C,\n",
    "              'kernel': kernel,\n",
    "              'gamma': gamma,\n",
    "              'degree': degree,\n",
    "              'probability': probability\n",
    "             }\n",
    "\n",
    "pprint(random_grid)"
   ]
  },
  {
   "cell_type": "code",
   "execution_count": 119,
   "metadata": {},
   "outputs": [],
   "source": [
    "# First create the base model to tune\n",
    "svc = svm.SVC(random_state=8)"
   ]
  },
  {
   "cell_type": "code",
   "execution_count": 120,
   "metadata": {},
   "outputs": [
    {
     "name": "stderr",
     "output_type": "stream",
     "text": [
      "/Users/colm/opt/anaconda3/lib/python3.7/site-packages/sklearn/model_selection/_search.py:266: UserWarning: The total space of parameters 1 is smaller than n_iter=50. Running 1 iterations. For exhaustive searches, use GridSearchCV.\n",
      "  % (grid_size, self.n_iter, grid_size), UserWarning)\n",
      "[Parallel(n_jobs=1)]: Using backend SequentialBackend with 1 concurrent workers.\n"
     ]
    },
    {
     "name": "stdout",
     "output_type": "stream",
     "text": [
      "Fitting 3 folds for each of 1 candidates, totalling 3 fits\n"
     ]
    },
    {
     "name": "stderr",
     "output_type": "stream",
     "text": [
      "[Parallel(n_jobs=1)]: Done   3 out of   3 | elapsed:  6.4min finished\n"
     ]
    },
    {
     "data": {
      "text/plain": [
       "RandomizedSearchCV(cv=3, error_score='raise-deprecating',\n",
       "                   estimator=SVC(C=1.0, cache_size=200, class_weight=None,\n",
       "                                 coef0=0.0, decision_function_shape='ovr',\n",
       "                                 degree=3, gamma='auto_deprecated',\n",
       "                                 kernel='rbf', max_iter=-1, probability=False,\n",
       "                                 random_state=8, shrinking=True, tol=0.001,\n",
       "                                 verbose=False),\n",
       "                   iid='warn', n_iter=50, n_jobs=None,\n",
       "                   param_distributions={'C': [0.01], 'degree': [4],\n",
       "                                        'gamma': [10], 'kernel': ['poly'],\n",
       "                                        'probability': [True]},\n",
       "                   pre_dispatch='2*n_jobs', random_state=8, refit=True,\n",
       "                   return_train_score=False, scoring='accuracy', verbose=1)"
      ]
     },
     "execution_count": 120,
     "metadata": {},
     "output_type": "execute_result"
    }
   ],
   "source": [
    "# Definition of the random search\n",
    "random_search = RandomizedSearchCV(estimator=svc,\n",
    "                                   param_distributions=random_grid,\n",
    "                                   n_iter=50,\n",
    "                                   scoring='accuracy',\n",
    "                                   cv=3, \n",
    "                                   verbose=1, \n",
    "                                   random_state=8)\n",
    "\n",
    "# Fit the random search model\n",
    "random_search.fit(features_train, labels_train)"
   ]
  },
  {
   "cell_type": "code",
   "execution_count": 121,
   "metadata": {},
   "outputs": [
    {
     "name": "stdout",
     "output_type": "stream",
     "text": [
      "The best hyperparameters from Random Search are:\n",
      "{'probability': True, 'kernel': 'poly', 'gamma': 10, 'degree': 4, 'C': 0.01}\n",
      "\n",
      "The mean accuracy of a model with these hyperparameters is:\n",
      "0.709\n"
     ]
    }
   ],
   "source": [
    "print(\"The best hyperparameters from Random Search are:\")\n",
    "print(random_search.best_params_)\n",
    "print(\"\")\n",
    "print(\"The mean accuracy of a model with these hyperparameters is:\")\n",
    "print(random_search.best_score_)"
   ]
  },
  {
   "cell_type": "markdown",
   "metadata": {},
   "source": [
    "Ideally here I would do a grid search to refine the search for the best model"
   ]
  },
  {
   "cell_type": "code",
   "execution_count": 122,
   "metadata": {},
   "outputs": [],
   "source": [
    "best_svc = random_search.best_estimator_"
   ]
  },
  {
   "cell_type": "code",
   "execution_count": 123,
   "metadata": {},
   "outputs": [
    {
     "data": {
      "text/plain": [
       "SVC(C=0.01, cache_size=200, class_weight=None, coef0=0.0,\n",
       "    decision_function_shape='ovr', degree=4, gamma=10, kernel='poly',\n",
       "    max_iter=-1, probability=True, random_state=8, shrinking=True, tol=0.001,\n",
       "    verbose=False)"
      ]
     },
     "execution_count": 123,
     "metadata": {},
     "output_type": "execute_result"
    }
   ],
   "source": [
    "best_svc"
   ]
  },
  {
   "cell_type": "markdown",
   "metadata": {},
   "source": [
    "## Model Fit & Performance"
   ]
  },
  {
   "cell_type": "code",
   "execution_count": 124,
   "metadata": {},
   "outputs": [
    {
     "data": {
      "text/plain": [
       "SVC(C=0.01, cache_size=200, class_weight=None, coef0=0.0,\n",
       "    decision_function_shape='ovr', degree=4, gamma=10, kernel='poly',\n",
       "    max_iter=-1, probability=True, random_state=8, shrinking=True, tol=0.001,\n",
       "    verbose=False)"
      ]
     },
     "execution_count": 124,
     "metadata": {},
     "output_type": "execute_result"
    }
   ],
   "source": [
    "# fit the model on the training data\n",
    "best_svc.fit(features_train, labels_train)"
   ]
  },
  {
   "cell_type": "code",
   "execution_count": 125,
   "metadata": {},
   "outputs": [],
   "source": [
    "# Get the predictions on the test data\n",
    "svc_pred = best_svc.predict(features_test)"
   ]
  },
  {
   "cell_type": "code",
   "execution_count": 126,
   "metadata": {},
   "outputs": [
    {
     "name": "stdout",
     "output_type": "stream",
     "text": [
      "The training accuracy is: \n",
      "0.9993\n",
      "The test accuracy is: \n",
      "0.45710526315789474\n"
     ]
    }
   ],
   "source": [
    "# Training Accuracy\n",
    "print(\"The training accuracy is: \")\n",
    "print(accuracy_score(labels_train, best_svc.predict(features_train)))\n",
    "# Test accuracy\n",
    "print(\"The test accuracy is: \")\n",
    "print(accuracy_score(labels_test, svc_pred))"
   ]
  },
  {
   "cell_type": "markdown",
   "metadata": {},
   "source": [
    "46% is a model, but not a great one.  25% would be the lowest model accuracy (random allocation or constant allocation would achieve that). "
   ]
  },
  {
   "cell_type": "code",
   "execution_count": 130,
   "metadata": {},
   "outputs": [
    {
     "name": "stdout",
     "output_type": "stream",
     "text": [
      "Classification report\n",
      "              precision    recall  f1-score   support\n",
      "\n",
      "           1       0.65      0.32      0.43      1900\n",
      "           2       0.39      0.82      0.53      1900\n",
      "           3       0.56      0.23      0.33      1900\n",
      "           4       0.47      0.45      0.46      1900\n",
      "\n",
      "    accuracy                           0.46      7600\n",
      "   macro avg       0.52      0.46      0.44      7600\n",
      "weighted avg       0.52      0.46      0.44      7600\n",
      "\n"
     ]
    }
   ],
   "source": [
    "# Classification report\n",
    "print(\"Classification report\")\n",
    "print(classification_report(labels_test,svc_pred))"
   ]
  },
  {
   "cell_type": "code",
   "execution_count": 131,
   "metadata": {},
   "outputs": [
    {
     "name": "stdout",
     "output_type": "stream",
     "text": [
      "[4 4 2 ... 2 2 2]\n"
     ]
    }
   ],
   "source": [
    "print(svc_pred)"
   ]
  },
  {
   "cell_type": "code",
   "execution_count": 134,
   "metadata": {},
   "outputs": [
    {
     "name": "stdout",
     "output_type": "stream",
     "text": [
      "       class_index                                            title  \\\n",
      "42616            3        Delta to Cut Execs, Workers Pay by 10 Pct   \n",
      "10964            2       Bertuzzi Pleads Not Guilty to Assault (AP)   \n",
      "39478            1          Four terror suspects arrested in London   \n",
      "85946            4              Irish urged to reduce gas emissions   \n",
      "65870            3           Bank sages stumped by economic riddles   \n",
      "...            ...                                              ...   \n",
      "13446            1           Chechnya to hold presidential election   \n",
      "65437            4        Windows XP Service Pack 2: Is It Time Yet   \n",
      "66207            4  Cingular Operating Profits Dip, Revenue Up (AP)   \n",
      "60982            1                 Gbagbo calls on rebels to disarm   \n",
      "55883            2                          Bunch of TDs from Brady   \n",
      "\n",
      "                                             description         genre  \\\n",
      "42616   CHICAGO (Reuters) - Delta Air Lines &lt;A HRE...      Business   \n",
      "10964  AP - Todd Bertuzzi of the Vancouver Canucks pl...         Sport   \n",
      "39478  British police said Saturday they have arreste...         World   \n",
      "85946  Ireland #39;s leading expert on climate change...  Science_Tech   \n",
      "65870  The Bank of England #39;s most prominent sages...      Business   \n",
      "...                                                  ...           ...   \n",
      "13446  Russia #39;s restive republic of Chechnya will...         World   \n",
      "65437  A Desktop Pipeline reviewer invites readers to...  Science_Tech   \n",
      "66207  AP - Operating profits slipped 5.5 percent at ...  Science_Tech   \n",
      "60982  Ivory Coast's president urges former rebels to...         World   \n",
      "55883  Northeastern quarterback Shawn Brady engaged i...         Sport   \n",
      "\n",
      "       description_length  \n",
      "42616                 329  \n",
      "10964                 202  \n",
      "39478                 174  \n",
      "85946                 176  \n",
      "65870                 213  \n",
      "...                   ...  \n",
      "13446                 155  \n",
      "65437                 139  \n",
      "66207                 249  \n",
      "60982                  99  \n",
      "55883                 234  \n",
      "\n",
      "[10000 rows x 5 columns]\n"
     ]
    }
   ],
   "source": [
    "print(dftrain)"
   ]
  },
  {
   "cell_type": "code",
   "execution_count": 135,
   "metadata": {},
   "outputs": [
    {
     "data": {
      "image/png": "[encoded data removed]",
      "text/plain": [
       "<Figure size 921.6x432 with 2 Axes>"
      ]
     },
     "metadata": {},
     "output_type": "display_data"
    }
   ],
   "source": [
    "# Confusion matrix - (correct allocation matrix)\n",
    "aux_df = dftrain[['genre']].drop_duplicates().sort_values('genre')\n",
    "conf_matrix = confusion_matrix(labels_test, svc_pred)\n",
    "plt.figure(figsize=(12.8,6))\n",
    "sns.heatmap(conf_matrix, \n",
    "            annot=True,\n",
    "            xticklabels=aux_df['genre'].values, \n",
    "            yticklabels=aux_df['genre'].values,\n",
    "            cmap=\"Blues\")\n",
    "plt.ylabel('Predicted')\n",
    "plt.xlabel('Actual')\n",
    "plt.title('Confusion matrix')\n",
    "plt.show()"
   ]
  },
  {
   "cell_type": "markdown",
   "metadata": {},
   "source": [
    "Other measures of performance in addition to straignt accuracy would be:\n",
    "- Accuracy & precision (precision being measure of positive patterns that are correctly predicted)\n",
    "- Concordance (estimate of correctness using pairs of predictions). Especially logistic reg.\n",
    "- Recall (fraction of positive patterns)\n",
    "- F1, Gamme, TauA, each statistical method has its own set of metrics. \n",
    "- ROC or area under curve (cumulative %true positive versus %fals positive).  Great visually as and quite intuitive to explain)\n",
    "- ROC (or Area Under Curve) charts are a favourite to show relative model performance\n",
    "\n",
    "(lots of records will be misclassified due to subjective errors in the original classification, or where there really isn't enough information there to determine a good classification. Ideally check out misclassified records to see what the reasons might be, and assess whether these are acceptable"
   ]
  },
  {
   "cell_type": "markdown",
   "metadata": {},
   "source": [
    "## Findings Summary"
   ]
  },
  {
   "cell_type": "markdown",
   "metadata": {},
   "source": [
    "The method has resulted in a working model (initially 46% accuracy) and a workflow in Jupyter Notebooks and python to accomplish the task.  This is a good basis for future iterative model improvments and a number of imprtant techniques have been illustrated. \n",
    "\n",
    "This accuracy of the solution may be acceptable, depending on the real-world application (discussed ealier in the approach). There are however many ways to improve and fine tune the model, some of which will be possible in the time available. Notably:\n",
    "- With greater performance available, use the whole dataset to train the model, not just a sample, and jot limited to the description texts. This is perhaps the greatest positive performance impact as we are training text models which benefit greatly from a greater corpus.  Evidenced also as I have shown improvements going from 1% through to 10% sampling.\n",
    "- More advanced data cleansing including stop words & lemmatisation. \n",
    "- Feature engneering.  Especially if the real-world application is known this can qualitatively enhance the model as well. \n",
    "- Using different machine learning techniques (listed earlier), using similar performance measures. In particular Random Forest and neural nets. \n",
    "- Extended random search and grid searches. This can iteratively give good performance boost. \n",
    "- Other performance measures have been dentified to enhance understanding of the solution. \n",
    "\n",
    "### Next steps & Recommendations\n",
    "- Time permitting, action some of the identified model improvments\n",
    "- Discuss real-world application with the business / client to ensure fit for purpose\n",
    "- Present solution(s) to both business stakeholder and technical audiences\n",
    "- Collaborate with business to implement and productionise the model, and integrate with relevant systems & processes. \n",
    "\n",
    "### Contact\n",
    "Colm O'Hanlon\n",
    "colm.ohanlon@googlemail.com\n",
    "\n",
    "### Appendices\n",
    "Appendices and reference materials available on request only"
   ]
  },
  {
   "cell_type": "code",
   "execution_count": null,
   "metadata": {},
   "outputs": [],
   "source": []
  }
 ],
 "metadata": {
  "kernelspec": {
   "display_name": "Python 3",
   "language": "python",
   "name": "python3"
  },
  "language_info": {
   "codemirror_mode": {
    "name": "ipython",
    "version": 3
   },
   "file_extension": ".py",
   "mimetype": "text/x-python",
   "name": "python",
   "nbconvert_exporter": "python",
   "pygments_lexer": "ipython3",
   "version": "3.7.4"
  }
 },
 "nbformat": 4,
 "nbformat_minor": 2
}
